{
 "cells": [
  {
   "cell_type": "code",
   "execution_count": 1,
   "metadata": {},
   "outputs": [
    {
     "data": {
      "text/plain": [
       "(array([[1, 0],\n",
       "        [1, 2],\n",
       "        [2, 1],\n",
       "        [2, 1],\n",
       "        [2, 2],\n",
       "        [0, 0],\n",
       "        [0, 1],\n",
       "        [0, 1],\n",
       "        [0, 2],\n",
       "        [1, 0],\n",
       "        [1, 2],\n",
       "        [1, 2],\n",
       "        [2, 0],\n",
       "        [2, 2]], dtype=int64),\n",
       " array([0, 0, 0, 0, 0, 1, 1, 1, 1, 1, 1, 1, 1, 1], dtype=int64))"
      ]
     },
     "execution_count": 1,
     "metadata": {},
     "output_type": "execute_result"
    }
   ],
   "source": [
    "import numpy as np\n",
    "import pandas as pd\n",
    "import matplotlib.pyplot as plt\n",
    "\n",
    "\n",
    "weather=['Rainy','Rainy','Sunny','Sunny','Sunny','Overcast','Overcast','Overcast','Overcast','Rainy',\\\n",
    "         'Rainy','Rainy','Sunny','Sunny']\n",
    "temp=['Cool','Mild','Hot','Hot','Mild','Cool','Hot','Hot','Mild','Cool','Mild','Mild','Cool','Mild']\n",
    "play=['No','No','No','No','No','Yes','Yes','Yes','Yes','Yes','Yes','Yes','Yes','Yes']\n",
    "\n",
    "\n",
    "from sklearn.preprocessing import LabelEncoder\n",
    "LE = LabelEncoder() # LabelEncoder를 사용하여 범주형 데이터인 weather, temp, play를 숫자로 인코딩\n",
    "weather_encoded  = LE.fit_transform(weather)\n",
    "temp_encoded = LE.fit_transform(temp)\n",
    "data = np.c_[weather_encoded, temp_encoded] # 배열을 컬럼 방향으로 결합\n",
    "target = LE.fit_transform(play) # target은 text도 가능\n",
    "data, target"
   ]
  },
  {
   "cell_type": "code",
   "execution_count": null,
   "metadata": {},
   "outputs": [],
   "source": []
  }
 ],
 "metadata": {
  "kernelspec": {
   "display_name": "base",
   "language": "python",
   "name": "python3"
  },
  "language_info": {
   "codemirror_mode": {
    "name": "ipython",
    "version": 3
   },
   "file_extension": ".py",
   "mimetype": "text/x-python",
   "name": "python",
   "nbconvert_exporter": "python",
   "pygments_lexer": "ipython3",
   "version": "3.11.3"
  }
 },
 "nbformat": 4,
 "nbformat_minor": 2
}
